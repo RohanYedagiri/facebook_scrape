{
 "cells": [
  {
   "cell_type": "code",
   "execution_count": 11,
   "metadata": {
    "collapsed": true
   },
   "outputs": [],
   "source": [
    "import requests\n",
    "import json"
   ]
  },
  {
   "cell_type": "code",
   "execution_count": 6,
   "metadata": {
    "collapsed": true
   },
   "outputs": [],
   "source": [
    "token = \"EAACEdEose0cBAILe0W4jm1TJZBJnaZBTZAkXFB5FiF9e6qkhaZAOr9jtdr0hsbSS2EUtfH9rZCKn3dH4S1JllDWjVK1d8vPZCKnTKPP44GZCyK2gUosyGOiTwNFyQpPy08SZCsaW9WN5B8IOwGmp3a1UuKcxTOWIeO9pJIEc6tYvr2rjereaJw9ZCXN3eKf349pAZD\""
   ]
  },
  {
   "cell_type": "code",
   "execution_count": 16,
   "metadata": {},
   "outputs": [],
   "source": [
    "req=\"nytimes?fields=posts{created_time,message,likes,shares,comments{message,like_count,comment_count},reactions}\"\n",
    "r = requests.get(\"https://graph.facebook.com/v2.12/\" + req , {'access_token' : token})"
   ]
  },
  {
   "cell_type": "code",
   "execution_count": 36,
   "metadata": {
    "collapsed": true
   },
   "outputs": [],
   "source": [
    "result = r.json()"
   ]
  },
  {
   "cell_type": "code",
   "execution_count": 38,
   "metadata": {},
   "outputs": [
    {
     "data": {
      "text/plain": [
       "'The FBI matched his fingerprints when he applied to become a pilot.'"
      ]
     },
     "execution_count": 38,
     "metadata": {},
     "output_type": "execute_result"
    }
   ],
   "source": [
    "result['posts']['data'][13]['message']"
   ]
  },
  {
   "cell_type": "code",
   "execution_count": 39,
   "metadata": {
    "collapsed": true
   },
   "outputs": [],
   "source": [
    "from flatten_json import flatten"
   ]
  },
  {
   "cell_type": "code",
   "execution_count": 46,
   "metadata": {},
   "outputs": [],
   "source": [
    "flat = flatten(result['posts'])"
   ]
  },
  {
   "cell_type": "code",
   "execution_count": 42,
   "metadata": {
    "collapsed": true
   },
   "outputs": [],
   "source": [
    "from pandas.io.json import json_normalize"
   ]
  },
  {
   "cell_type": "code",
   "execution_count": 47,
   "metadata": {
    "collapsed": true
   },
   "outputs": [],
   "source": [
    "df = json_normalize(flat)"
   ]
  },
  {
   "cell_type": "code",
   "execution_count": 48,
   "metadata": {},
   "outputs": [
    {
     "data": {
      "text/html": [
       "<div>\n",
       "<style>\n",
       "    .dataframe thead tr:only-child th {\n",
       "        text-align: right;\n",
       "    }\n",
       "\n",
       "    .dataframe thead th {\n",
       "        text-align: left;\n",
       "    }\n",
       "\n",
       "    .dataframe tbody tr th {\n",
       "        vertical-align: top;\n",
       "    }\n",
       "</style>\n",
       "<table border=\"1\" class=\"dataframe\">\n",
       "  <thead>\n",
       "    <tr style=\"text-align: right;\">\n",
       "      <th></th>\n",
       "      <th>data_0_comments_data_0_comment_count</th>\n",
       "      <th>data_0_comments_data_0_id</th>\n",
       "      <th>data_0_comments_data_0_like_count</th>\n",
       "      <th>data_0_comments_data_10_comment_count</th>\n",
       "      <th>data_0_comments_data_10_id</th>\n",
       "      <th>data_0_comments_data_10_like_count</th>\n",
       "      <th>data_0_comments_data_11_comment_count</th>\n",
       "      <th>data_0_comments_data_11_id</th>\n",
       "      <th>data_0_comments_data_11_like_count</th>\n",
       "      <th>data_0_comments_data_1_comment_count</th>\n",
       "      <th>...</th>\n",
       "      <th>data_9_comments_paging_cursors_after</th>\n",
       "      <th>data_9_comments_paging_cursors_before</th>\n",
       "      <th>data_9_comments_paging_next</th>\n",
       "      <th>data_9_created_time</th>\n",
       "      <th>data_9_id</th>\n",
       "      <th>data_9_message</th>\n",
       "      <th>data_9_shares_count</th>\n",
       "      <th>paging_cursors_after</th>\n",
       "      <th>paging_cursors_before</th>\n",
       "      <th>paging_next</th>\n",
       "    </tr>\n",
       "  </thead>\n",
       "  <tbody>\n",
       "    <tr>\n",
       "      <th>0</th>\n",
       "      <td>2</td>\n",
       "      <td>10151478994999999_10151479053449999</td>\n",
       "      <td>1</td>\n",
       "      <td>0</td>\n",
       "      <td>10151478994999999_10151479054779999</td>\n",
       "      <td>0</td>\n",
       "      <td>0</td>\n",
       "      <td>10151478994999999_10151479051559999</td>\n",
       "      <td>0</td>\n",
       "      <td>0</td>\n",
       "      <td>...</td>\n",
       "      <td>MTI2</td>\n",
       "      <td>MTU2</td>\n",
       "      <td>https://graph.facebook.com/v2.12/5281959998_10...</td>\n",
       "      <td>2018-02-07T16:25:02+0000</td>\n",
       "      <td>5281959998_10151478864374999</td>\n",
       "      <td>Porn confounds many teenagers about the kinds ...</td>\n",
       "      <td>244</td>\n",
       "      <td>Q2c4U1pXNTBYM0YxWlhKNVgzTjBiM0o1WDJsa0R4NDFNam...</td>\n",
       "      <td>Q2c4U1pXNTBYM0YxWlhKNVgzTjBiM0o1WDJsa0R4MDFNam...</td>\n",
       "      <td>https://graph.facebook.com/v2.12/5281959998/po...</td>\n",
       "    </tr>\n",
       "  </tbody>\n",
       "</table>\n",
       "<p>1 rows × 1828 columns</p>\n",
       "</div>"
      ],
      "text/plain": [
       "   data_0_comments_data_0_comment_count            data_0_comments_data_0_id  \\\n",
       "0                                     2  10151478994999999_10151479053449999   \n",
       "\n",
       "   data_0_comments_data_0_like_count  data_0_comments_data_10_comment_count  \\\n",
       "0                                  1                                      0   \n",
       "\n",
       "            data_0_comments_data_10_id  data_0_comments_data_10_like_count  \\\n",
       "0  10151478994999999_10151479054779999                                   0   \n",
       "\n",
       "   data_0_comments_data_11_comment_count           data_0_comments_data_11_id  \\\n",
       "0                                      0  10151478994999999_10151479051559999   \n",
       "\n",
       "   data_0_comments_data_11_like_count  data_0_comments_data_1_comment_count  \\\n",
       "0                                   0                                     0   \n",
       "\n",
       "                         ...                          \\\n",
       "0                        ...                           \n",
       "\n",
       "  data_9_comments_paging_cursors_after  data_9_comments_paging_cursors_before  \\\n",
       "0                                 MTI2                                   MTU2   \n",
       "\n",
       "                         data_9_comments_paging_next  \\\n",
       "0  https://graph.facebook.com/v2.12/5281959998_10...   \n",
       "\n",
       "        data_9_created_time                     data_9_id  \\\n",
       "0  2018-02-07T16:25:02+0000  5281959998_10151478864374999   \n",
       "\n",
       "                                      data_9_message data_9_shares_count  \\\n",
       "0  Porn confounds many teenagers about the kinds ...                 244   \n",
       "\n",
       "                                paging_cursors_after  \\\n",
       "0  Q2c4U1pXNTBYM0YxWlhKNVgzTjBiM0o1WDJsa0R4NDFNam...   \n",
       "\n",
       "                               paging_cursors_before  \\\n",
       "0  Q2c4U1pXNTBYM0YxWlhKNVgzTjBiM0o1WDJsa0R4MDFNam...   \n",
       "\n",
       "                                         paging_next  \n",
       "0  https://graph.facebook.com/v2.12/5281959998/po...  \n",
       "\n",
       "[1 rows x 1828 columns]"
      ]
     },
     "execution_count": 48,
     "metadata": {},
     "output_type": "execute_result"
    }
   ],
   "source": [
    "df.head()"
   ]
  },
  {
   "cell_type": "code",
   "execution_count": null,
   "metadata": {
    "collapsed": true
   },
   "outputs": [],
   "source": []
  }
 ],
 "metadata": {
  "kernelspec": {
   "display_name": "Python 3",
   "language": "python",
   "name": "python3"
  },
  "language_info": {
   "codemirror_mode": {
    "name": "ipython",
    "version": 3
   },
   "file_extension": ".py",
   "mimetype": "text/x-python",
   "name": "python",
   "nbconvert_exporter": "python",
   "pygments_lexer": "ipython3",
   "version": "3.6.3"
  }
 },
 "nbformat": 4,
 "nbformat_minor": 2
}
